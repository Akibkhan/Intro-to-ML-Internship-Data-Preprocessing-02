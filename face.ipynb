{
 "cells": [
  {
   "cell_type": "code",
   "execution_count": 26,
   "id": "d2de7d4a-0b73-47d4-861e-772e7f4cb09f",
   "metadata": {},
   "outputs": [],
   "source": [
    "import urllib3\n",
    "import requests\n",
    "import json\n",
    "from urllib.parse import urlparse\n"
   ]
  },
  {
   "cell_type": "code",
   "execution_count": 27,
   "id": "cc1eecd0-df62-4417-803c-d545420e20a4",
   "metadata": {},
   "outputs": [],
   "source": []
  },
  {
   "cell_type": "code",
   "execution_count": 28,
   "id": "14b50ed7-de45-45c7-b475-63f1756f8cd5",
   "metadata": {},
   "outputs": [],
   "source": []
  },
  {
   "cell_type": "code",
   "execution_count": 29,
   "id": "d9e8278e-8d0b-44e1-8b06-a27f95eff094",
   "metadata": {},
   "outputs": [],
   "source": [
    "http = urllib3.PoolManager()\n",
    "resp = http.request(\"GET\", url)\n"
   ]
  },
  {
   "cell_type": "code",
   "execution_count": 30,
   "id": "dec23d0e-5ece-4335-ad02-4840c280c5d8",
   "metadata": {},
   "outputs": [],
   "source": [
    "result = resp.json()"
   ]
  },
  {
   "cell_type": "code",
   "execution_count": 31,
   "id": "57f9caa8-6355-4dd3-8492-6393aecb6cea",
   "metadata": {},
   "outputs": [
    {
     "name": "stdout",
     "output_type": "stream",
     "text": [
      "[{'profilephoto': '666b31dadecd2.jpg', 'cid': 'abc', 'sid': '666b31dadecd2'}, {'profilephoto': '666b31dadecd2.jpg', 'cid': 'def', 'sid': '666b31dadecd2'}]\n"
     ]
    }
   ],
   "source": [
    "print(result)"
   ]
  },
  {
   "cell_type": "code",
   "execution_count": 32,
   "id": "f681ce4a-7694-4657-bc07-7190152656dd",
   "metadata": {},
   "outputs": [],
   "source": [
    "path = \"/images\""
   ]
  },
  {
   "cell_type": "code",
   "execution_count": 33,
   "id": "e52a5731-0374-421d-b46b-3ed7d474b8e7",
   "metadata": {},
   "outputs": [
    {
     "name": "stdout",
     "output_type": "stream",
     "text": [
      "['http://localhost/pra/profilephoto/666b31dadecd2.jpg', 'http://localhost/pra/profilephoto/666b31dadecd2.jpg', 'http://localhost/pra/profilephoto/666b31dadecd2.jpg', 'http://localhost/pra/profilephoto/666b31dadecd2.jpg', 'http://localhost/pra/profilephoto/666b31dadecd2.jpg', 'http://localhost/pra/profilephoto/666b31dadecd2.jpg']\n"
     ]
    }
   ],
   "source": [
    "img_list = []\n",
    "for i in result:\n",
    "    for j in i:\n",
    "        img = i['profilephoto']\n",
    "        img_list.append(\"http://localhost/pra/profilephoto/\"+img)\n",
    "print(img_list)"
   ]
  },
  {
   "cell_type": "code",
   "execution_count": 34,
   "id": "f10302d1-66e5-47fd-a391-de33fdedd5bd",
   "metadata": {},
   "outputs": [],
   "source": [
    "def download_file(url):\n",
    "    # Parse the URL to extract the filename\n",
    "    parsed_url = urlparse(url)\n",
    "    filename = parsed_url.path.split(\"/\")[-1]\n",
    "    print(filename)\n",
    "\n",
    "    # Send a GET request to the URL\n",
    "    response = requests.get(url)\n",
    "\n",
    "    # Check if the request was successful\n",
    "    if response.status_code == 200:\n",
    "        # Write the contents of the response to a file\n",
    "        with open(\"images/\"+filename, 'wb') as file:\n",
    "            file.write(response.content)\n",
    "        print(f\"File downloaded as {filename}\")\n",
    "    else:\n",
    "        print(f\"Failed to download file from {url}\")\n"
   ]
  },
  {
   "cell_type": "code",
   "execution_count": 35,
   "id": "19de75b1-516e-49fb-8bb3-e011fd150b6a",
   "metadata": {},
   "outputs": [
    {
     "name": "stdout",
     "output_type": "stream",
     "text": [
      "666b31dadecd2.jpg\n",
      "File downloaded as 666b31dadecd2.jpg\n",
      "666b31dadecd2.jpg\n",
      "File downloaded as 666b31dadecd2.jpg\n",
      "666b31dadecd2.jpg\n",
      "File downloaded as 666b31dadecd2.jpg\n",
      "666b31dadecd2.jpg\n",
      "File downloaded as 666b31dadecd2.jpg\n",
      "666b31dadecd2.jpg\n",
      "File downloaded as 666b31dadecd2.jpg\n",
      "666b31dadecd2.jpg\n",
      "File downloaded as 666b31dadecd2.jpg\n"
     ]
    }
   ],
   "source": [
    "for i in img_list:\n",
    "    download_file(i)\n",
    " \n",
    "    \n"
   ]
  },
  {
   "cell_type": "code",
   "execution_count": null,
   "id": "2e678793-e9b5-4cde-8e0a-98ca544c40d4",
   "metadata": {},
   "outputs": [],
   "source": []
  },
  {
   "cell_type": "code",
   "execution_count": null,
   "id": "da19c586-3b59-41fa-b667-00b250f06470",
   "metadata": {},
   "outputs": [],
   "source": []
  },
  {
   "cell_type": "code",
   "execution_count": null,
   "id": "61b60e5a-70d1-46f8-bb52-a687468188cc",
   "metadata": {},
   "outputs": [],
   "source": []
  },
  {
   "cell_type": "code",
   "execution_count": null,
   "id": "fd69b2d1-1b77-409f-b6d5-81f4f818f92e",
   "metadata": {},
   "outputs": [],
   "source": []
  }
 ],
 "metadata": {
  "kernelspec": {
   "display_name": "Python 3 (ipykernel)",
   "language": "python",
   "name": "python3"
  },
  "language_info": {
   "codemirror_mode": {
    "name": "ipython",
    "version": 3
   },
   "file_extension": ".py",
   "mimetype": "text/x-python",
   "name": "python",
   "nbconvert_exporter": "python",
   "pygments_lexer": "ipython3",
   "version": "3.12.2"
  }
 },
 "nbformat": 4,
 "nbformat_minor": 5
}
