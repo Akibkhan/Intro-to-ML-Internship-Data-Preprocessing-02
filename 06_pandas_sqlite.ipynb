{
 "cells": [
  {
   "cell_type": "code",
   "execution_count": 21,
   "id": "dc26157f-4044-4e45-bbe4-782f1ae23885",
   "metadata": {},
   "outputs": [],
   "source": [
    "import sqlite3"
   ]
  },
  {
   "cell_type": "code",
   "execution_count": 22,
   "id": "3bb952dc-55ea-49ea-83c9-fae1c4c13cdf",
   "metadata": {},
   "outputs": [],
   "source": [
    "conn = sqlite3.connect(\"ipl/database.sqlite\")"
   ]
  },
  {
   "cell_type": "code",
   "execution_count": 23,
   "id": "9b40b7dc-3585-470c-ae78-1e5256f9fc60",
   "metadata": {},
   "outputs": [],
   "source": [
    "cur = conn.cursor()"
   ]
  },
  {
   "cell_type": "code",
   "execution_count": 24,
   "id": "0d05563c-ac1f-4d5d-9b3b-9b340273137b",
   "metadata": {},
   "outputs": [],
   "source": [
    "res = conn.execute(\"SELECT name FROM sqlite_master WHERE type='table';\")"
   ]
  },
  {
   "cell_type": "code",
   "execution_count": 25,
   "id": "f6f4d283-22b2-4234-be5c-11d6bac5ad7c",
   "metadata": {},
   "outputs": [
    {
     "name": "stdout",
     "output_type": "stream",
     "text": [
      "('Player',)\n",
      "('Extra_Runs',)\n",
      "('Batsman_Scored',)\n",
      "('Batting_Style',)\n",
      "('Bowling_Style',)\n",
      "('Country',)\n",
      "('Season',)\n",
      "('City',)\n",
      "('Outcome',)\n",
      "('Win_By',)\n",
      "('Wicket_Taken',)\n",
      "('Venue',)\n",
      "('Extra_Type',)\n",
      "('Out_Type',)\n",
      "('Toss_Decision',)\n",
      "('Umpire',)\n",
      "('Team',)\n",
      "('Ball_by_Ball',)\n",
      "('sysdiagrams',)\n",
      "('sqlite_sequence',)\n",
      "('Match',)\n",
      "('Rolee',)\n",
      "('Player_Match',)\n"
     ]
    }
   ],
   "source": [
    "for name in res:\n",
    "    print(name)"
   ]
  },
  {
   "cell_type": "code",
   "execution_count": 26,
   "id": "f762c2eb-6874-4320-80c9-ed8954155300",
   "metadata": {},
   "outputs": [
    {
     "data": {
      "text/plain": [
       "<sqlite3.Cursor at 0x183f53452c0>"
      ]
     },
     "execution_count": 26,
     "metadata": {},
     "output_type": "execute_result"
    }
   ],
   "source": [
    "cur.execute(\"Select * from city limit 5;\")"
   ]
  },
  {
   "cell_type": "code",
   "execution_count": 27,
   "id": "f8c80d70-35fc-468e-8e2a-4afbf27c5d47",
   "metadata": {},
   "outputs": [
    {
     "name": "stdout",
     "output_type": "stream",
     "text": [
      "[(1, 'Bangalore', 1), (2, 'Chandigarh', 1), (3, 'Delhi', 1), (4, 'Mumbai', 1), (5, 'Kolkata', 1)]\n"
     ]
    }
   ],
   "source": [
    "results = cur.fetchall()\n",
    "print(results)"
   ]
  },
  {
   "cell_type": "code",
   "execution_count": null,
   "id": "3a1b28d7-27f9-4353-b20d-a8af3d2b51bf",
   "metadata": {},
   "outputs": [],
   "source": []
  },
  {
   "cell_type": "code",
   "execution_count": 28,
   "id": "fd4b6aa6-4d50-49b1-831d-87b840cacde3",
   "metadata": {},
   "outputs": [],
   "source": [
    "import pandas as pd"
   ]
  },
  {
   "cell_type": "code",
   "execution_count": 29,
   "id": "c5577af5-6fe6-4c0d-abb1-ab2af7364771",
   "metadata": {},
   "outputs": [],
   "source": [
    "query = \"SELECT * from Match;\""
   ]
  },
  {
   "cell_type": "code",
   "execution_count": 30,
   "id": "571c3c19-8302-4488-a68e-6a50b3c23147",
   "metadata": {},
   "outputs": [],
   "source": [
    "df = pd.read_sql_query(query,conn)"
   ]
  },
  {
   "cell_type": "code",
   "execution_count": 31,
   "id": "6edd10a9-efef-45df-984c-87f820a0deda",
   "metadata": {},
   "outputs": [
    {
     "data": {
      "text/html": [
       "<div>\n",
       "<style scoped>\n",
       "    .dataframe tbody tr th:only-of-type {\n",
       "        vertical-align: middle;\n",
       "    }\n",
       "\n",
       "    .dataframe tbody tr th {\n",
       "        vertical-align: top;\n",
       "    }\n",
       "\n",
       "    .dataframe thead th {\n",
       "        text-align: right;\n",
       "    }\n",
       "</style>\n",
       "<table border=\"1\" class=\"dataframe\">\n",
       "  <thead>\n",
       "    <tr style=\"text-align: right;\">\n",
       "      <th></th>\n",
       "      <th>Match_Id</th>\n",
       "      <th>Team_1</th>\n",
       "      <th>Team_2</th>\n",
       "      <th>Match_Date</th>\n",
       "      <th>Season_Id</th>\n",
       "      <th>Venue_Id</th>\n",
       "      <th>Toss_Winner</th>\n",
       "      <th>Toss_Decide</th>\n",
       "      <th>Win_Type</th>\n",
       "      <th>Win_Margin</th>\n",
       "      <th>Outcome_type</th>\n",
       "      <th>Match_Winner</th>\n",
       "      <th>Man_of_the_Match</th>\n",
       "    </tr>\n",
       "  </thead>\n",
       "  <tbody>\n",
       "    <tr>\n",
       "      <th>0</th>\n",
       "      <td>335987</td>\n",
       "      <td>2</td>\n",
       "      <td>1</td>\n",
       "      <td>2008-04-18 00:00:00</td>\n",
       "      <td>1</td>\n",
       "      <td>1</td>\n",
       "      <td>2</td>\n",
       "      <td>1</td>\n",
       "      <td>1</td>\n",
       "      <td>140.0</td>\n",
       "      <td>1</td>\n",
       "      <td>1.0</td>\n",
       "      <td>2.0</td>\n",
       "    </tr>\n",
       "    <tr>\n",
       "      <th>1</th>\n",
       "      <td>335988</td>\n",
       "      <td>4</td>\n",
       "      <td>3</td>\n",
       "      <td>2008-04-19 00:00:00</td>\n",
       "      <td>1</td>\n",
       "      <td>2</td>\n",
       "      <td>3</td>\n",
       "      <td>2</td>\n",
       "      <td>1</td>\n",
       "      <td>33.0</td>\n",
       "      <td>1</td>\n",
       "      <td>3.0</td>\n",
       "      <td>19.0</td>\n",
       "    </tr>\n",
       "    <tr>\n",
       "      <th>2</th>\n",
       "      <td>335989</td>\n",
       "      <td>6</td>\n",
       "      <td>5</td>\n",
       "      <td>2008-04-19 00:00:00</td>\n",
       "      <td>1</td>\n",
       "      <td>3</td>\n",
       "      <td>5</td>\n",
       "      <td>2</td>\n",
       "      <td>2</td>\n",
       "      <td>9.0</td>\n",
       "      <td>1</td>\n",
       "      <td>6.0</td>\n",
       "      <td>90.0</td>\n",
       "    </tr>\n",
       "    <tr>\n",
       "      <th>3</th>\n",
       "      <td>335990</td>\n",
       "      <td>7</td>\n",
       "      <td>2</td>\n",
       "      <td>2008-04-20 00:00:00</td>\n",
       "      <td>1</td>\n",
       "      <td>4</td>\n",
       "      <td>7</td>\n",
       "      <td>2</td>\n",
       "      <td>2</td>\n",
       "      <td>5.0</td>\n",
       "      <td>1</td>\n",
       "      <td>2.0</td>\n",
       "      <td>11.0</td>\n",
       "    </tr>\n",
       "    <tr>\n",
       "      <th>4</th>\n",
       "      <td>335991</td>\n",
       "      <td>1</td>\n",
       "      <td>8</td>\n",
       "      <td>2008-04-20 00:00:00</td>\n",
       "      <td>1</td>\n",
       "      <td>5</td>\n",
       "      <td>8</td>\n",
       "      <td>2</td>\n",
       "      <td>2</td>\n",
       "      <td>5.0</td>\n",
       "      <td>1</td>\n",
       "      <td>1.0</td>\n",
       "      <td>4.0</td>\n",
       "    </tr>\n",
       "  </tbody>\n",
       "</table>\n",
       "</div>"
      ],
      "text/plain": [
       "   Match_Id  Team_1  Team_2           Match_Date  Season_Id  Venue_Id  \\\n",
       "0    335987       2       1  2008-04-18 00:00:00          1         1   \n",
       "1    335988       4       3  2008-04-19 00:00:00          1         2   \n",
       "2    335989       6       5  2008-04-19 00:00:00          1         3   \n",
       "3    335990       7       2  2008-04-20 00:00:00          1         4   \n",
       "4    335991       1       8  2008-04-20 00:00:00          1         5   \n",
       "\n",
       "   Toss_Winner  Toss_Decide  Win_Type  Win_Margin  Outcome_type  Match_Winner  \\\n",
       "0            2            1         1       140.0             1           1.0   \n",
       "1            3            2         1        33.0             1           3.0   \n",
       "2            5            2         2         9.0             1           6.0   \n",
       "3            7            2         2         5.0             1           2.0   \n",
       "4            8            2         2         5.0             1           1.0   \n",
       "\n",
       "   Man_of_the_Match  \n",
       "0               2.0  \n",
       "1              19.0  \n",
       "2              90.0  \n",
       "3              11.0  \n",
       "4               4.0  "
      ]
     },
     "execution_count": 31,
     "metadata": {},
     "output_type": "execute_result"
    }
   ],
   "source": [
    "df.head()"
   ]
  },
  {
   "cell_type": "code",
   "execution_count": 32,
   "id": "3e5879fa-2675-4895-b6bf-6e91c19059e4",
   "metadata": {},
   "outputs": [],
   "source": [
    "cur.close()\n",
    "conn.close()"
   ]
  },
  {
   "cell_type": "code",
   "execution_count": null,
   "id": "7c76a71e-35d6-495d-bd22-f1540e25d8e3",
   "metadata": {},
   "outputs": [],
   "source": []
  }
 ],
 "metadata": {
  "kernelspec": {
   "display_name": "Python 3 (ipykernel)",
   "language": "python",
   "name": "python3"
  },
  "language_info": {
   "codemirror_mode": {
    "name": "ipython",
    "version": 3
   },
   "file_extension": ".py",
   "mimetype": "text/x-python",
   "name": "python",
   "nbconvert_exporter": "python",
   "pygments_lexer": "ipython3",
   "version": "3.12.2"
  }
 },
 "nbformat": 4,
 "nbformat_minor": 5
}
