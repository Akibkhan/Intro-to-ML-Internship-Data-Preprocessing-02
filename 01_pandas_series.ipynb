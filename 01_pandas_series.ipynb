{
 "cells": [
  {
   "cell_type": "code",
   "execution_count": 1,
   "id": "6632d80d-b540-4947-8185-22b3b5f5ebf6",
   "metadata": {},
   "outputs": [
    {
     "data": {
      "text/plain": [
       "a      3\n",
       "b    cat\n",
       "c    2.5\n",
       "dtype: object"
      ]
     },
     "execution_count": 1,
     "metadata": {},
     "output_type": "execute_result"
    }
   ],
   "source": [
    "import pandas as pd\n",
    "dict = {'a':3,'b':'cat','c':2.5}\n",
    "pd.Series(dict)"
   ]
  },
  {
   "cell_type": "code",
   "execution_count": 4,
   "id": "257b0171-2500-4b32-98bb-cfb553315b04",
   "metadata": {},
   "outputs": [],
   "source": [
    "oneD = pd.Series([100,'cat',310,'gog',500],['Amy','Bobby','Cat','Don','Emma'])"
   ]
  },
  {
   "cell_type": "code",
   "execution_count": 5,
   "id": "52a64751-7952-4b1a-b322-5497cf2bcd0e",
   "metadata": {},
   "outputs": [
    {
     "data": {
      "text/plain": [
       "Amy      100\n",
       "Bobby    cat\n",
       "Cat      310\n",
       "Don      gog\n",
       "Emma     500\n",
       "dtype: object"
      ]
     },
     "execution_count": 5,
     "metadata": {},
     "output_type": "execute_result"
    }
   ],
   "source": [
    "oneD"
   ]
  },
  {
   "cell_type": "code",
   "execution_count": 7,
   "id": "52ae8328-4a8f-4bce-87bb-995cfbfce6f5",
   "metadata": {},
   "outputs": [],
   "source": [
    "oneD = pd.Series([100,'cat',310,'gog',500],index=['Amy','Bobby','Cat','Don','Emma'])"
   ]
  },
  {
   "cell_type": "code",
   "execution_count": 8,
   "id": "5b0643c6-2b79-4c6e-a26a-06290bb47db1",
   "metadata": {},
   "outputs": [
    {
     "data": {
      "text/plain": [
       "Amy      100\n",
       "Bobby    cat\n",
       "Cat      310\n",
       "Don      gog\n",
       "Emma     500\n",
       "dtype: object"
      ]
     },
     "execution_count": 8,
     "metadata": {},
     "output_type": "execute_result"
    }
   ],
   "source": [
    "oneD"
   ]
  },
  {
   "cell_type": "code",
   "execution_count": 12,
   "id": "bfcac788-a2ea-432e-adb4-a841376e2bfb",
   "metadata": {},
   "outputs": [
    {
     "data": {
      "text/plain": [
       "Cat     310\n",
       "Emma    500\n",
       "dtype: object"
      ]
     },
     "execution_count": 12,
     "metadata": {},
     "output_type": "execute_result"
    }
   ],
   "source": [
    "oneD.loc[['Cat','Emma']]"
   ]
  },
  {
   "cell_type": "code",
   "execution_count": 13,
   "id": "67ab2f83-9df3-415f-8c78-9df925da4001",
   "metadata": {},
   "outputs": [
    {
     "name": "stderr",
     "output_type": "stream",
     "text": [
      "C:\\Users\\HUAWEI\\AppData\\Local\\Temp\\ipykernel_8732\\3816589157.py:1: FutureWarning: Series.__getitem__ treating keys as positions is deprecated. In a future version, integer keys will always be treated as labels (consistent with DataFrame behavior). To access a value by position, use `ser.iloc[pos]`\n",
      "  oneD[[0,3,4]]\n"
     ]
    },
    {
     "data": {
      "text/plain": [
       "Amy     100\n",
       "Don     gog\n",
       "Emma    500\n",
       "dtype: object"
      ]
     },
     "execution_count": 13,
     "metadata": {},
     "output_type": "execute_result"
    }
   ],
   "source": [
    "oneD[[0,3,4]]"
   ]
  },
  {
   "cell_type": "code",
   "execution_count": 15,
   "id": "edcc3f8c-ea7b-495e-afa2-bd19630db0a9",
   "metadata": {},
   "outputs": [
    {
     "name": "stderr",
     "output_type": "stream",
     "text": [
      "C:\\Users\\HUAWEI\\AppData\\Local\\Temp\\ipykernel_8732\\1088540822.py:1: FutureWarning: Series.__getitem__ treating keys as positions is deprecated. In a future version, integer keys will always be treated as labels (consistent with DataFrame behavior). To access a value by position, use `ser.iloc[pos]`\n",
      "  oneD[[0]]\n"
     ]
    },
    {
     "data": {
      "text/plain": [
       "Amy    100\n",
       "dtype: object"
      ]
     },
     "execution_count": 15,
     "metadata": {},
     "output_type": "execute_result"
    }
   ],
   "source": [
    "oneD[[0]]"
   ]
  },
  {
   "cell_type": "code",
   "execution_count": 16,
   "id": "973608d7-8b3f-4296-a961-0a4c51dbdd31",
   "metadata": {},
   "outputs": [
    {
     "data": {
      "text/plain": [
       "'cat'"
      ]
     },
     "execution_count": 16,
     "metadata": {},
     "output_type": "execute_result"
    }
   ],
   "source": [
    "oneD.iloc[1]"
   ]
  },
  {
   "cell_type": "code",
   "execution_count": 17,
   "id": "2a26d3ea-ae7f-40db-83d0-b3224c3a3f69",
   "metadata": {},
   "outputs": [
    {
     "data": {
      "text/plain": [
       "False"
      ]
     },
     "execution_count": 17,
     "metadata": {},
     "output_type": "execute_result"
    }
   ],
   "source": [
    "'cat' in oneD"
   ]
  },
  {
   "cell_type": "code",
   "execution_count": 18,
   "id": "1827e013-edc1-4b1d-9e0f-b9cc8dfca6d6",
   "metadata": {},
   "outputs": [
    {
     "data": {
      "text/plain": [
       "True"
      ]
     },
     "execution_count": 18,
     "metadata": {},
     "output_type": "execute_result"
    }
   ],
   "source": [
    "'Cat' in oneD"
   ]
  },
  {
   "cell_type": "code",
   "execution_count": 19,
   "id": "a3d56171-317f-414a-9b8e-b7f10a73a441",
   "metadata": {},
   "outputs": [],
   "source": [
    "d = {'A':pd.Series([100.,200.,300.], index=['apple','pear','orange']),\n",
    "     'B':pd.Series([111.,222.,333.,4444.],index=['apple','pear','orange','melon'])}"
   ]
  },
  {
   "cell_type": "code",
   "execution_count": 20,
   "id": "423177b4-aac3-48ef-9fdb-e4602dd67cbe",
   "metadata": {},
   "outputs": [
    {
     "name": "stdout",
     "output_type": "stream",
     "text": [
      "            A       B\n",
      "apple   100.0   111.0\n",
      "melon     NaN  4444.0\n",
      "orange  300.0   333.0\n",
      "pear    200.0   222.0\n"
     ]
    }
   ],
   "source": [
    "df = pd.DataFrame(d)\n",
    "print(df)"
   ]
  },
  {
   "cell_type": "code",
   "execution_count": 21,
   "id": "7121866f-f203-4f54-9d04-1f6523a885b2",
   "metadata": {},
   "outputs": [
    {
     "name": "stdout",
     "output_type": "stream",
     "text": [
      "<class 'pandas.core.frame.DataFrame'>\n"
     ]
    }
   ],
   "source": [
    "print(type(df))"
   ]
  },
  {
   "cell_type": "code",
   "execution_count": 22,
   "id": "e6cffb7a-7a95-4870-a81f-890710f95db2",
   "metadata": {},
   "outputs": [
    {
     "data": {
      "text/plain": [
       "Index(['apple', 'melon', 'orange', 'pear'], dtype='object')"
      ]
     },
     "execution_count": 22,
     "metadata": {},
     "output_type": "execute_result"
    }
   ],
   "source": [
    "df.index"
   ]
  },
  {
   "cell_type": "code",
   "execution_count": 23,
   "id": "b140dc9c-826c-4eea-8476-be7e79061f63",
   "metadata": {},
   "outputs": [
    {
     "data": {
      "text/plain": [
       "Index(['A', 'B'], dtype='object')"
      ]
     },
     "execution_count": 23,
     "metadata": {},
     "output_type": "execute_result"
    }
   ],
   "source": [
    "df.columns"
   ]
  },
  {
   "cell_type": "code",
   "execution_count": 24,
   "id": "aa5bfa6b-d999-4b4d-9771-182dd686e364",
   "metadata": {},
   "outputs": [
    {
     "data": {
      "text/html": [
       "<div>\n",
       "<style scoped>\n",
       "    .dataframe tbody tr th:only-of-type {\n",
       "        vertical-align: middle;\n",
       "    }\n",
       "\n",
       "    .dataframe tbody tr th {\n",
       "        vertical-align: top;\n",
       "    }\n",
       "\n",
       "    .dataframe thead th {\n",
       "        text-align: right;\n",
       "    }\n",
       "</style>\n",
       "<table border=\"1\" class=\"dataframe\">\n",
       "  <thead>\n",
       "    <tr style=\"text-align: right;\">\n",
       "      <th></th>\n",
       "      <th>A</th>\n",
       "    </tr>\n",
       "  </thead>\n",
       "  <tbody>\n",
       "    <tr>\n",
       "      <th>orange</th>\n",
       "      <td>300.0</td>\n",
       "    </tr>\n",
       "    <tr>\n",
       "      <th>melon</th>\n",
       "      <td>NaN</td>\n",
       "    </tr>\n",
       "    <tr>\n",
       "      <th>apple</th>\n",
       "      <td>100.0</td>\n",
       "    </tr>\n",
       "  </tbody>\n",
       "</table>\n",
       "</div>"
      ],
      "text/plain": [
       "            A\n",
       "orange  300.0\n",
       "melon     NaN\n",
       "apple   100.0"
      ]
     },
     "execution_count": 24,
     "metadata": {},
     "output_type": "execute_result"
    }
   ],
   "source": [
    "pd.DataFrame(df,index=['orange','melon','apple'],columns=['A'])"
   ]
  },
  {
   "cell_type": "code",
   "execution_count": null,
   "id": "4e73a5dd-804d-4cb7-907f-b13d2a35739c",
   "metadata": {},
   "outputs": [],
   "source": []
  }
 ],
 "metadata": {
  "kernelspec": {
   "display_name": "Python 3 (ipykernel)",
   "language": "python",
   "name": "python3"
  },
  "language_info": {
   "codemirror_mode": {
    "name": "ipython",
    "version": 3
   },
   "file_extension": ".py",
   "mimetype": "text/x-python",
   "name": "python",
   "nbconvert_exporter": "python",
   "pygments_lexer": "ipython3",
   "version": "3.12.2"
  }
 },
 "nbformat": 4,
 "nbformat_minor": 5
}
