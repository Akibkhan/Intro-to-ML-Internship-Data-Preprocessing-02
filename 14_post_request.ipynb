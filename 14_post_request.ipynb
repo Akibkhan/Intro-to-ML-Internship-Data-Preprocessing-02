{
 "cells": [
  {
   "cell_type": "code",
   "execution_count": 11,
   "id": "9c587660-b911-44eb-9fd2-856d74dba3b6",
   "metadata": {},
   "outputs": [],
   "source": [
    "import urllib3\n",
    "import json"
   ]
  },
  {
   "cell_type": "code",
   "execution_count": 12,
   "id": "e2b5ac65-45ad-420e-9973-e6020f7982a1",
   "metadata": {},
   "outputs": [
    {
     "name": "stdout",
     "output_type": "stream",
     "text": [
      "b''\n"
     ]
    }
   ],
   "source": [
    "data = {\n",
    "        \"sid\": \"666b31dadecd2\",\n",
    "        \"cid\": \"def\",\n",
    "        \"marked\": \"1\",\n",
    "    }\n",
    "\n",
    "r = http.request(\"POST\",\"http://localhost/pra/attendance.php\",fields=data)\n",
    "if r.status == 200:\n",
    "  print(r.data)"
   ]
  },
  {
   "cell_type": "code",
   "execution_count": null,
   "id": "6b9e2897-a1e1-40af-8df0-43eeedaadfca",
   "metadata": {},
   "outputs": [],
   "source": []
  },
  {
   "cell_type": "code",
   "execution_count": null,
   "id": "3a8e0b7b-7157-4f74-9e62-bc0a7fabf219",
   "metadata": {},
   "outputs": [],
   "source": []
  },
  {
   "cell_type": "code",
   "execution_count": null,
   "id": "a2d48022-d84b-4211-a234-0fd45a537016",
   "metadata": {},
   "outputs": [],
   "source": []
  }
 ],
 "metadata": {
  "kernelspec": {
   "display_name": "Python 3 (ipykernel)",
   "language": "python",
   "name": "python3"
  },
  "language_info": {
   "codemirror_mode": {
    "name": "ipython",
    "version": 3
   },
   "file_extension": ".py",
   "mimetype": "text/x-python",
   "name": "python",
   "nbconvert_exporter": "python",
   "pygments_lexer": "ipython3",
   "version": "3.12.2"
  }
 },
 "nbformat": 4,
 "nbformat_minor": 5
}
