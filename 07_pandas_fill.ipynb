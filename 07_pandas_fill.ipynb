{
 "cells": [
  {
   "cell_type": "code",
   "execution_count": 2,
   "id": "8d4d7e46-0f6b-40b6-8e9f-fdefd6deca51",
   "metadata": {},
   "outputs": [],
   "source": [
    "import pandas as pd\n",
    "import numpy as np"
   ]
  },
  {
   "cell_type": "code",
   "execution_count": 4,
   "id": "281a3b0e-0025-4cd9-91b3-d8698d9f307a",
   "metadata": {},
   "outputs": [],
   "source": [
    "df = pd.DataFrame([[1,np.nan,2],[2,3,5],[np.nan,4,6]])"
   ]
  },
  {
   "cell_type": "code",
   "execution_count": 7,
   "id": "2f749f22-e6dc-464a-90af-b635af5782df",
   "metadata": {},
   "outputs": [
    {
     "name": "stdout",
     "output_type": "stream",
     "text": [
      "     0    1  2\n",
      "0  1.0  NaN  2\n",
      "1  2.0  3.0  5\n",
      "2  NaN  4.0  6\n"
     ]
    }
   ],
   "source": [
    "print(df)"
   ]
  },
  {
   "cell_type": "code",
   "execution_count": 8,
   "id": "73e97d51-1b98-4481-98e2-d43cac7ed33c",
   "metadata": {},
   "outputs": [
    {
     "name": "stdout",
     "output_type": "stream",
     "text": [
      "       0      1      2\n",
      "0  False   True  False\n",
      "1  False  False  False\n",
      "2   True  False  False\n"
     ]
    }
   ],
   "source": [
    "print(df.isnull())"
   ]
  },
  {
   "cell_type": "code",
   "execution_count": 9,
   "id": "ebe0a9b9-a21d-48d7-ae94-65c019f78239",
   "metadata": {},
   "outputs": [
    {
     "name": "stdout",
     "output_type": "stream",
     "text": [
      "     0    1  2\n",
      "1  2.0  3.0  5\n"
     ]
    }
   ],
   "source": [
    "print(df.dropna())"
   ]
  },
  {
   "cell_type": "code",
   "execution_count": 10,
   "id": "c7c8f505-2edb-4f93-add5-88757b62fe12",
   "metadata": {},
   "outputs": [
    {
     "name": "stdout",
     "output_type": "stream",
     "text": [
      "     0    1  2\n",
      "1  2.0  3.0  5\n"
     ]
    }
   ],
   "source": [
    "print(df.dropna())"
   ]
  },
  {
   "cell_type": "code",
   "execution_count": 12,
   "id": "fdcfc810-cd59-4758-86a6-68f88487de7f",
   "metadata": {},
   "outputs": [
    {
     "name": "stdout",
     "output_type": "stream",
     "text": [
      "     0    1  2\n",
      "0  1.0  NaN  2\n",
      "1  2.0  3.0  5\n",
      "2  NaN  4.0  6\n"
     ]
    }
   ],
   "source": [
    "print(df.dropna(axis=1,how=\"all\"))"
   ]
  },
  {
   "cell_type": "code",
   "execution_count": 13,
   "id": "98e464a8-aac4-4057-9e00-3fd006290f82",
   "metadata": {},
   "outputs": [
    {
     "name": "stdout",
     "output_type": "stream",
     "text": [
      "     0    1  2\n",
      "0  1.0  NaN  2\n",
      "1  2.0  3.0  5\n",
      "2  NaN  4.0  6\n"
     ]
    }
   ],
   "source": [
    "print(df.dropna(thresh=2))"
   ]
  },
  {
   "cell_type": "code",
   "execution_count": 14,
   "id": "5378024e-60d1-460e-9a79-1d1be8ac0a53",
   "metadata": {},
   "outputs": [
    {
     "name": "stdout",
     "output_type": "stream",
     "text": [
      "     0    1  2\n",
      "0  1.0  0.0  2\n",
      "1  2.0  3.0  5\n",
      "2  0.0  4.0  6\n"
     ]
    }
   ],
   "source": [
    "print(df.fillna(0))"
   ]
  },
  {
   "cell_type": "code",
   "execution_count": 20,
   "id": "4e60ebc1-6cb2-496d-b07a-1641d482be02",
   "metadata": {},
   "outputs": [
    {
     "name": "stdout",
     "output_type": "stream",
     "text": [
      "     0    1  2\n",
      "0  1.0  NaN  2\n",
      "1  2.0  3.0  5\n",
      "2  2.0  4.0  6\n"
     ]
    }
   ],
   "source": [
    " print(df.ffill())\n"
   ]
  },
  {
   "cell_type": "code",
   "execution_count": 21,
   "id": "ca5beaef-7474-4a42-bc2c-08a125922cc0",
   "metadata": {},
   "outputs": [
    {
     "name": "stdout",
     "output_type": "stream",
     "text": [
      "     0    1    2\n",
      "0  1.0  1.0  2.0\n",
      "1  2.0  3.0  5.0\n",
      "2  NaN  4.0  6.0\n"
     ]
    }
   ],
   "source": [
    " print(df.ffill(axis=1))\n"
   ]
  },
  {
   "cell_type": "code",
   "execution_count": 22,
   "id": "db4ff544-8a52-4d39-9838-994bb235c236",
   "metadata": {},
   "outputs": [
    {
     "name": "stdout",
     "output_type": "stream",
     "text": [
      "     0    1  2\n",
      "0  1.0  3.0  2\n",
      "1  2.0  3.0  5\n",
      "2  NaN  4.0  6\n"
     ]
    }
   ],
   "source": [
    " print(df.bfill())\n"
   ]
  },
  {
   "cell_type": "code",
   "execution_count": null,
   "id": "e8665cbc-2f77-4e05-a703-f79e98b18172",
   "metadata": {},
   "outputs": [],
   "source": []
  }
 ],
 "metadata": {
  "kernelspec": {
   "display_name": "Python 3 (ipykernel)",
   "language": "python",
   "name": "python3"
  },
  "language_info": {
   "codemirror_mode": {
    "name": "ipython",
    "version": 3
   },
   "file_extension": ".py",
   "mimetype": "text/x-python",
   "name": "python",
   "nbconvert_exporter": "python",
   "pygments_lexer": "ipython3",
   "version": "3.12.2"
  }
 },
 "nbformat": 4,
 "nbformat_minor": 5
}
